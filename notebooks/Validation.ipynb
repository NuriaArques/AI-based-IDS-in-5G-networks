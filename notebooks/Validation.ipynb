{
 "cells": [
  {
   "cell_type": "code",
   "execution_count": null,
   "metadata": {
    "_cell_guid": "b1076dfc-b9ad-4769-8c92-a6c4dae69d19",
    "_uuid": "8f2839f25d086af736a60e9eeb907d3b93b6e0e5",
    "execution": {
     "iopub.execute_input": "2025-06-08T11:07:34.672549Z",
     "iopub.status.busy": "2025-06-08T11:07:34.672121Z",
     "iopub.status.idle": "2025-06-08T11:07:39.145629Z",
     "shell.execute_reply": "2025-06-08T11:07:39.144559Z",
     "shell.execute_reply.started": "2025-06-08T11:07:34.672505Z"
    },
    "trusted": true
   },
   "outputs": [],
   "source": [
    "import torch\n",
    "print(\"GPU Available:\", torch.cuda.is_available())\n",
    "device = torch.device(\"cuda\" if torch.cuda.is_available() else \"cpu\")\n",
    "print(\"GPU Name:\", torch.cuda.get_device_name(0) if torch.cuda.is_available() else \"No GPU\")"
   ]
  },
  {
   "cell_type": "markdown",
   "metadata": {},
   "source": [
    "# **DATA**"
   ]
  },
  {
   "cell_type": "code",
   "execution_count": null,
   "metadata": {
    "execution": {
     "iopub.execute_input": "2025-06-08T11:07:39.147654Z",
     "iopub.status.busy": "2025-06-08T11:07:39.147170Z",
     "iopub.status.idle": "2025-06-08T11:07:45.058557Z",
     "shell.execute_reply": "2025-06-08T11:07:45.057465Z",
     "shell.execute_reply.started": "2025-06-08T11:07:39.147623Z"
    },
    "trusted": true
   },
   "outputs": [],
   "source": [
    "import os\n",
    "import pandas as pd\n",
    "import numpy as np\n",
    "import matplotlib.pyplot as plt\n",
    "from matplotlib.ticker import MaxNLocator, MultipleLocator, FuncFormatter\n",
    "from matplotlib.lines import Line2D\n",
    "from typing import Tuple, Optional, Union, Dict, List\n",
    "\n",
    "np.random.seed(42)\n",
    "\n",
    "import torch.nn as nn\n",
    "import torch.optim as optim\n",
    "import torch.nn.functional as F\n",
    "from torch.utils.data import DataLoader, TensorDataset\n",
    "\n",
    "torch.manual_seed(0)\n",
    "from copy import deepcopy\n",
    "from IPython.display import HTML"
   ]
  },
  {
   "cell_type": "code",
   "execution_count": null,
   "metadata": {
    "execution": {
     "iopub.execute_input": "2025-06-08T11:07:45.147141Z",
     "iopub.status.busy": "2025-06-08T11:07:45.146817Z",
     "iopub.status.idle": "2025-06-08T11:07:45.166580Z",
     "shell.execute_reply": "2025-06-08T11:07:45.165501Z",
     "shell.execute_reply.started": "2025-06-08T11:07:45.147111Z"
    },
    "trusted": true
   },
   "outputs": [],
   "source": [
    "class DNN(nn.Module):\n",
    "    def __init__(self, input_dim, hidden_layers, hidden_units, activation, output_dim):\n",
    "        super(DNN, self).__init__()\n",
    "\n",
    "        layers = []\n",
    "        in_features = input_dim\n",
    "\n",
    "        for _ in range(hidden_layers):\n",
    "            layers.append(nn.Linear(in_features, hidden_units))\n",
    "            layers.append(activation())  # Activation function\n",
    "            in_features = hidden_units\n",
    "\n",
    "        # Output layer\n",
    "        layers.append(nn.Linear(in_features, output_dim))\n",
    "        \n",
    "        self.model = nn.Sequential(*layers)\n",
    "\n",
    "    def forward(self, x):\n",
    "        return self.model(x)\n",
    "\n",
    "\n",
    "class CNN(nn.Module):\n",
    "    def __init__(self, input_dim, num_filters, fc_units, dropout, num_conv_layers, output_dim):\n",
    "        super(CNN, self).__init__()\n",
    "        self.convs = nn.ModuleList([\n",
    "            nn.Conv1d(in_channels=1 if i == 0 else num_filters, out_channels=num_filters, kernel_size=3, padding=1)\n",
    "            for i in range(num_conv_layers)\n",
    "        ])\n",
    "        self.fc = nn.Linear(num_filters * input_dim, fc_units)\n",
    "        self.output = nn.Linear(fc_units, output_dim)\n",
    "        self.dropout = nn.Dropout(dropout)\n",
    "\n",
    "    def forward(self, x):\n",
    "        x = x.unsqueeze(1)  # Add channel dimension\n",
    "        for conv in self.convs:\n",
    "            x = torch.relu(conv(x))\n",
    "        x = x.view(x.size(0), -1)  # Flatten\n",
    "        x = self.dropout(torch.relu(self.fc(x)))\n",
    "        x = self.output(x)\n",
    "        return x\n",
    "        \n",
    "\n",
    "class CNN_LSTM(nn.Module):\n",
    "    def __init__(self, input_dim, num_filters, lstm_hidden, num_layers, fc_units, dropout, num_conv_layers, output_dim):\n",
    "        super(CNN_LSTM, self).__init__()\n",
    "        self.convs = nn.ModuleList([\n",
    "            nn.Conv1d(in_channels=1 if i == 0 else num_filters, out_channels=num_filters, kernel_size=3, padding=1)\n",
    "            for i in range(num_conv_layers)\n",
    "        ])\n",
    "        self.lstm = nn.LSTM(input_size=num_filters, hidden_size=lstm_hidden, num_layers=num_layers, batch_first=True)\n",
    "        self.fc = nn.Linear(lstm_hidden, fc_units)\n",
    "        self.output = nn.Linear(fc_units, output_dim)\n",
    "        self.dropout = nn.Dropout(dropout)\n",
    "\n",
    "    def forward(self, x):\n",
    "        x = x.unsqueeze(1)  # Add channel dimension\n",
    "        for conv in self.convs:\n",
    "            x = torch.relu(conv(x))\n",
    "        x = x.permute(0, 2, 1)  # Reshape for LSTM (batch, seq_len, features)\n",
    "        x, _ = self.lstm(x)\n",
    "        x = self.dropout(torch.relu(self.fc(x[:, -1, :])))\n",
    "        x = self.output(x)\n",
    "        return x"
   ]
  },
  {
   "cell_type": "code",
   "execution_count": null,
   "metadata": {
    "execution": {
     "iopub.execute_input": "2025-06-08T11:07:45.169024Z",
     "iopub.status.busy": "2025-06-08T11:07:45.168674Z",
     "iopub.status.idle": "2025-06-08T11:07:45.191688Z",
     "shell.execute_reply": "2025-06-08T11:07:45.190367Z",
     "shell.execute_reply.started": "2025-06-08T11:07:45.168989Z"
    },
    "trusted": true
   },
   "outputs": [],
   "source": [
    "NUM_CLIENTS = 3  # Number of federated clients\n",
    "input_dim = 25\n",
    "NUM_ROUNDS = 10"
   ]
  },
  {
   "cell_type": "markdown",
   "metadata": {},
   "source": [
    "# **MODELS**"
   ]
  },
  {
   "cell_type": "code",
   "execution_count": null,
   "metadata": {
    "execution": {
     "iopub.execute_input": "2025-06-08T11:07:45.215335Z",
     "iopub.status.busy": "2025-06-08T11:07:45.214940Z",
     "iopub.status.idle": "2025-06-08T11:07:45.238804Z",
     "shell.execute_reply": "2025-06-08T11:07:45.237570Z",
     "shell.execute_reply.started": "2025-06-08T11:07:45.215271Z"
    },
    "trusted": true
   },
   "outputs": [],
   "source": [
    "def DisplayTable(df: pd.DataFrame) -> None:\n",
    "    \"\"\" Displays the data for each unique strategy in the DataFrame as an HTML table. \"\"\"\n",
    "    \n",
    "    for st in df['Strategy'].unique().tolist():\n",
    "        metrics = df[df['Strategy'] == st]\n",
    "        display(HTML(metrics.to_html(index=False)))\n",
    "\n",
    "\n",
    "def AggregateNodes(df: pd.DataFrame) -> pd.DataFrame:\n",
    "    \"\"\" Average metrics across nodes. \"\"\"\n",
    "\n",
    "    results = []\n",
    "\n",
    "    for (model, strategy), model_group in df.groupby(['Model', 'Strategy']):\n",
    "        for rnd, round_group in model_group.groupby('Round'):\n",
    "            epochs = round_group['Epochs'].iloc[0]\n",
    "\n",
    "            nodes = sorted(round_group['Node'].unique())\n",
    "            node_groups = [round_group[round_group['Node'] == n].reset_index(drop=True) for n in nodes]\n",
    "\n",
    "            min_len = min(len(g) for g in node_groups)\n",
    "\n",
    "            for i in range(min_len):\n",
    "                global_step = rnd * epochs + i\n",
    "                step_data = {\n",
    "                    'Model': model,\n",
    "                    'Strategy': strategy,\n",
    "                    'GlobalRound': rnd,\n",
    "                    'Round': global_step,\n",
    "                    'TrainAcc': sum(g.loc[i, 'TrainAcc'] for g in node_groups) / len(node_groups),\n",
    "                    'ValAcc': sum(g.loc[i, 'ValAcc'] for g in node_groups) / len(node_groups),\n",
    "                    'TrainLoss': sum(g.loc[i, 'TrainLoss'] for g in node_groups) / len(node_groups),\n",
    "                    'Epochs': epochs\n",
    "                }\n",
    "                results.append(step_data)\n",
    "\n",
    "    return pd.DataFrame(results)"
   ]
  },
  {
   "cell_type": "code",
   "execution_count": null,
   "metadata": {
    "execution": {
     "iopub.execute_input": "2025-06-08T11:07:45.401853Z",
     "iopub.status.busy": "2025-06-08T11:07:45.401426Z",
     "iopub.status.idle": "2025-06-08T11:07:45.433977Z",
     "shell.execute_reply": "2025-06-08T11:07:45.432629Z",
     "shell.execute_reply.started": "2025-06-08T11:07:45.401812Z"
    },
    "trusted": true
   },
   "outputs": [],
   "source": [
    "model_palette = {\n",
    "    'DNN': 'powderblue', \n",
    "    'CNN': 'navy',  \n",
    "    'CNN-LSTM': 'royalblue'\n",
    "}\n",
    "\n",
    "def ModelComparisonTogether(df: pd.DataFrame, MODE: str, PARTITIONS: str, EPOCHS: int = 1) -> None:\n",
    "    \"\"\" For each aggregation function, jointly plot Train and Validation accuracy of every model in each node. \"\"\"\n",
    "\n",
    "    handles_model = [Line2D([0], [0], color='w', markerfacecolor=model_palette.get(m, \"grey\"), marker='o', markersize=8, label=f\"{m}\") for m in df['Model'].unique()]\n",
    "    handles_lstyle = [Line2D([0], [0], color='black', lw=2, linestyle='-', label='Train'),\n",
    "                      Line2D([0], [0], color='black', lw=2, linestyle='--', label='Validation')]\n",
    "\n",
    "    y_min_acc = min(min(df[df['Model'] == m]['TrainAcc'].min(), df[df['Model'] == m]['ValAcc'].min()) for m in df['Model'].unique())\n",
    "    y_max_acc = max(max(df[df['Model'] == m]['TrainAcc'].max(), df[df['Model'] == m]['ValAcc'].max()) for m in df['Model'].unique()) + 0.001\n",
    "\n",
    "    n_strategies = len(df['Strategy'].unique())\n",
    "    \n",
    "    for idx, st in enumerate(df['Strategy'].unique()):\n",
    "        fig, axes = plt.subplots(nrows=1, ncols=NUM_CLIENTS, figsize=(15, 4))\n",
    "        axes = axes.flatten()\n",
    "        fig.suptitle(f\"{MODE} - {PARTITIONS} - {st} - Mean Accuracy per round\", fontsize=16, fontweight='black')\n",
    "\n",
    "        x, y = (0.5, 0.88) if n_strategies < 5 else (0.5, 0.89)\n",
    "        fig.text(x, y, f\"Global rounds: {NUM_ROUNDS} - Local epochs: {EPOCHS}\", ha='center', va='center', fontsize=12) \n",
    "    \n",
    "        df_strategy = df[df['Strategy'] == st]\n",
    "\n",
    "        for node in range(NUM_CLIENTS):\n",
    "            ax_acc = axes[node]\n",
    "            df_node = df_strategy[df_strategy['Node'] == node]\n",
    "            \n",
    "            for model in df['Model'].unique().tolist():\n",
    "                model_str_df = df_node[df_node['Model'] == model]\n",
    "                color = model_palette.get(model, \"grey\")\n",
    "                    \n",
    "                ax_acc.plot(model_str_df['Round'] + 1, model_str_df['TrainAcc'], marker='o', markersize=3, linestyle='-', linewidth=1, color=color, label=f\"{model} - Train\")\n",
    "                ax_acc.plot(model_str_df['Round'] + 1, model_str_df['ValAcc'], marker='s', markersize=3, linestyle='dashed', linewidth=1, color=color, label=f\"{model} - Val\")\n",
    "                        \n",
    "                ax_acc.set_xlabel(\"Round\")\n",
    "                            \n",
    "            ax_acc.set_title(f\"Node {node+1}\")\n",
    "            ax_acc.set_ylim(y_min_acc, y_max_acc)\n",
    "            ax_acc.xaxis.set_major_locator(MultipleLocator(2))\n",
    "            ax_acc.xaxis.set_major_formatter(FuncFormatter(lambda x, _: f'{int(x)}'))\n",
    "            ax_acc.grid(True, alpha=0.7)\n",
    "    \n",
    "            if idx == 0 or idx == 0:\n",
    "                ax_acc.set_ylabel('Accuracy')\n",
    "                    \n",
    "        if len(axes) > n_strategies:  \n",
    "            axes[-1].axis('off')\n",
    "\n",
    "        section_title_style = {'color': 'black', 'lw': 0}\n",
    "        combined_legend = [\n",
    "            Line2D([], [], **section_title_style, label=r\"$\\\\mathbf{Accuracy\\\\ Type}$\"),\n",
    "            *handles_lstyle,\n",
    "            Line2D([], [], **section_title_style, label=r\"$º\\mathbf{Model}$\"),\n",
    "            *handles_model\n",
    "        ]\n",
    "        axes[-1].legend(handles=combined_legend, fontsize=8)\n",
    "        \n",
    "        plt.tight_layout(rect=[0, 0, 1, 0.95])\n",
    "        plt.show()\n",
    "        plt.close(fig)\n",
    "\n",
    "\n",
    "def ModelComparisonAvgTogetherPart(df: pd.DataFrame, MODE: str, EPOCHS: int = 1) -> None:\n",
    "    \"\"\" For each aggregation function, jointly plot the averaged Train and Validation accuracy of each model. \"\"\"\n",
    "\n",
    "    handles_model = [Line2D([0], [0], color='w', markerfacecolor=model_palette.get(m, \"grey\"), marker='o', markersize=8, label=f\"{m}\") for m in df['Model'].unique()]\n",
    "    handles_lstyle = [Line2D([0], [0], color='black', lw=2, linestyle='-', label='Train'),\n",
    "                      Line2D([0], [0], color='black', lw=2, linestyle='--', label='Validation')]\n",
    "\n",
    "    y_min_acc = min(min(df[df['Model'] == m]['TrainAcc'].min(), df[df['Model'] == m]['ValAcc'].min()) for m in df['Model'].unique())\n",
    "    y_max_acc = max(max(df[df['Model'] == m]['TrainAcc'].max(), df[df['Model'] == m]['ValAcc'].max()) for m in df['Model'].unique()) + 0.001\n",
    "\n",
    "    for partition in df['Partition'].unique():\n",
    "        df_part = df[df['Partition'] == partition]\n",
    "        \n",
    "        n_strategies = len(df['Strategy'].unique())\n",
    "        nrows = 2 if n_strategies > 4 else 1\n",
    "        ncols = (n_strategies + 1) // 2 if n_strategies > 4 else n_strategies \n",
    "    \n",
    "        height = nrows * 0.5 if nrows == 2 else nrows * 5\n",
    "        width = ncols * 5 if n_strategies > 4 else ncols * 6 \n",
    "        \n",
    "        fig, axes = plt.subplots(nrows=nrows, ncols=ncols, figsize=(width, height))\n",
    "        if n_strategies == 1:\n",
    "            axes = [axes] \n",
    "        else:\n",
    "            axes = axes.flatten() if nrows > 1 else list(axes)\n",
    "    \n",
    "        fig.suptitle(f\"{MODE} - {partition} - Mean Accuracy per round\", fontsize=16, fontweight='black')\n",
    "    \n",
    "        x, y = (0.5, 0.9) if n_strategies < 5 else (0.5, 0.93)\n",
    "        fig.text(x, y, f\"Global rounds: {NUM_ROUNDS} - Local epochs: {EPOCHS}\", ha='center', va='center', fontsize=12) \n",
    "        \n",
    "        for idx, st in enumerate(df['Strategy'].unique()):\n",
    "            df_strategy = df_part[df_part['Strategy'] == st]\n",
    "            \n",
    "            for model in df['Model'].unique().tolist():\n",
    "                model_str_df = df_strategy[df_strategy['Model'] == model]\n",
    "                color = model_palette.get(model, \"grey\")\n",
    "            \n",
    "                ax_acc = axes[idx]\n",
    "                    \n",
    "                ax_acc.plot(model_str_df['Round'] + 1, model_str_df['TrainAcc'], marker='o', markersize=3, linestyle='-', color=color, label=f\"{model} - Train\")\n",
    "                ax_acc.plot(model_str_df['Round'] + 1, model_str_df['ValAcc'], marker='s', markersize=3, linestyle='dashed', color=color, label=f\"{model} - Val\")\n",
    "                        \n",
    "                ax_acc.set_xlabel(\"Round\")                            \n",
    "                ax_acc.set_title(f\"{st}\")\n",
    "                ax_acc.set_ylim(y_min_acc, y_max_acc)\n",
    "                if NUM_ROUNDS > 10:\n",
    "                    ax_acc.xaxis.set_major_locator(MultipleLocator(2))\n",
    "                else:\n",
    "                    ax_acc.xaxis.set_major_locator(MaxNLocator(integer=True))\n",
    "                ax_acc.xaxis.set_major_formatter(FuncFormatter(lambda x, _: f'{int(x)}'))\n",
    "                ax_acc.grid(True, alpha=0.7)\n",
    "        \n",
    "                if idx == 0 or idx == ncols:\n",
    "                    ax_acc.set_ylabel('Accuracy')\n",
    "                    \n",
    "        if len(axes) > n_strategies:  \n",
    "            axes[-1].axis('off')\n",
    "\n",
    "        section_title_style = {'color': 'black', 'lw': 0}\n",
    "        combined_legend = [\n",
    "            Line2D([], [], **section_title_style, label=r\"$\\\\mathbf{Accuracy\\\\ Type}$\"),\n",
    "            *handles_lstyle,\n",
    "            Line2D([], [], **section_title_style, label='\\n'),\n",
    "            Line2D([], [], **section_title_style, label=r\"$\\\\mathbf{Model}$\"),\n",
    "            *handles_model\n",
    "        ]\n",
    "    \n",
    "        plt.tight_layout(rect=[0, 0, 1, 0.95])\n",
    "        plt.show()"
   ]
  },
  {
   "cell_type": "code",
   "execution_count": null,
   "metadata": {},
   "outputs": [],
   "source": [
    "agg_palette = {\n",
    "    'UNIFORM': 'gray', \n",
    "    'UNBALANCED': 'firebrick'\n",
    "}\n",
    "\n",
    "def SingleModelAnalysis(df: pd.DataFrame, MODE: str) -> None:\n",
    "    \"\"\" Compare partitions. For each node, plot Train and Validation accuracy for both partitions in different training configurations. \"\"\"\n",
    "\n",
    "    handles_epoch = [Line2D([0], [0], color='w', markerfacecolor=agg_palette.get(part, \"grey\"), marker='o', markersize=8, label=f\"{part}\") for part in df['Partition'].unique()]\n",
    "    handles_lstyle = [Line2D([0], [0], color='black', lw=2, linestyle='-', label='Train'),\n",
    "                      Line2D([0], [0], color='black', lw=2, linestyle='--', label='Validation')]\n",
    "\n",
    "    section_title_style = {'color': 'black', 'lw': 0}\n",
    "    combined_legend = [\n",
    "        Line2D([], [], **section_title_style, label=r\"$\\\\mathbf{Accuracy\\\\ Type}$\"),\n",
    "        *handles_lstyle,\n",
    "        Line2D([], [], **section_title_style, label=r\"$\\\\mathbf{Data\\\\ Partition}$\"),\n",
    "        *handles_epoch\n",
    "    ]\n",
    "    \n",
    "    if (MODE == 'AC') and ('BalValAcc' in df.columns):\n",
    "        handles_lstyle.append(Line2D([0], [0], color='black', lw=2, linestyle=':', label='Balanced Val'))\n",
    "\n",
    "    for strategy in df['Strategy'].unique():\n",
    "        df_metrics = df[df['Strategy'] == strategy]\n",
    "        y_min_acc = min(df_metrics[['TrainAcc', 'ValAcc']].min())\n",
    "        y_max_acc = max(df_metrics[['TrainAcc', 'ValAcc']].max())\n",
    "        \n",
    "        for epoch_val in df_metrics['Epochs'].unique():\n",
    "            epochs_df = df_metrics[df_metrics['Epochs'] == epoch_val]\n",
    "    \n",
    "            fig, axes = plt.subplots(nrows=1, ncols=NUM_CLIENTS, figsize=(15, 3.5))\n",
    "        \n",
    "            fig.subplots_adjust(top=0.78, bottom=0.15, hspace=0.9)\n",
    "            if epoch_val == 1:\n",
    "                fig.suptitle(f\"{MODE} - {df_metrics['Model'].unique()[0]} - {df_metrics['Strategy'].unique()[0]}\", fontsize=16, fontweight='bold')\n",
    "            fig.text(0.5, 0.89, f\"Global rounds: {NUM_ROUNDS} - Local epochs: {epoch_val}\", ha='center', va='center', fontsize=12)\n",
    "        \n",
    "            for node in range(NUM_CLIENTS):\n",
    "                ax_acc = axes[node]\n",
    "                \n",
    "                for part in df_metrics['Partition'].unique():\n",
    "                    part_str_df = epochs_df[epochs_df['Partition'] == part]\n",
    "                    node_data = part_str_df[part_str_df['Node'] == node]\n",
    "                    x_epochs = np.arange(1, len(node_data) + 1) \n",
    "                    col = agg_palette.get(part, \"grey\")\n",
    "                    \n",
    "                    ax_acc.plot(x_epochs, node_data['TrainAcc'], marker='o', markersize=0, linestyle='-', linewidth=1.5, color=col, label=f\"{part} (Train)\")\n",
    "                    ax_acc.plot(x_epochs, node_data['ValAcc'], marker='s', markersize=0, linestyle='--', linewidth=1, color=col, label=f\"{part} (Val)\")\n",
    "                    if MODE == 'AC' and part == 'UNBALANCED' and epoch_val != 1 and ('BalValAcc' in df.columns):\n",
    "                        ax_acc.plot(x_epochs, node_data['BalValAcc'], marker='s', markersize=0, linestyle=':', linewidth=1, color=col, label=f\"{part} (Bal Val)\")\n",
    "\n",
    "                tick_positions = []\n",
    "                i = 0\n",
    "                while (tick := epoch_val * i) <= max(x_epochs):\n",
    "                    if tick >= min(x_epochs):\n",
    "                        tick_positions.append(tick)\n",
    "                    i += 1\n",
    "                if tick_positions[-1] != max(x_epochs):\n",
    "                    tick_positions.append(max(x_epochs))\n",
    "\n",
    "                if MODE == 'AC' and NUM_ROUNDS == 20:\n",
    "                    labels = [f\"{tick}\" if idx % 2 == 0 else \"\" for idx, tick in enumerate(tick_positions)]\n",
    "                else:\n",
    "                    labels = [f\"{tick}\" for tick in tick_positions]\n",
    "                \n",
    "                ax_acc.set_xticks(tick_positions, [f\"{tick}\" for tick in tick_positions])\n",
    "                ax_acc.set_xlabel(\"Epoch\")\n",
    "                ax_acc.set_xticklabels(labels)\n",
    "                ax_acc.set_title(f\"Node {node+1}\")\n",
    "                ax_acc.set_ylim(y_min_acc, y_max_acc)\n",
    "                ax_acc.grid(True, alpha=0.7)\n",
    "    \n",
    "                if node == 0:\n",
    "                    ax_acc.set_ylabel(\"Accuracy\")\n",
    "                if node == 2:\n",
    "                    ax_acc.legend(handles=combined_legend, fontsize=7)\n",
    "    \n",
    "            plt.show()"
   ]
  },
  {
   "cell_type": "markdown",
   "metadata": {},
   "source": [
    "## **ATTACK DETECTION**"
   ]
  },
  {
   "cell_type": "markdown",
   "metadata": {},
   "source": [
    "**STAGE 1**. Model and Aggregation function"
   ]
  },
  {
   "cell_type": "code",
   "execution_count": null,
   "metadata": {
    "execution": {
     "iopub.execute_input": "2025-06-08T11:07:45.470781Z",
     "iopub.status.busy": "2025-06-08T11:07:45.470293Z",
     "iopub.status.idle": "2025-06-08T11:07:57.074917Z",
     "shell.execute_reply": "2025-06-08T11:07:57.073599Z",
     "shell.execute_reply.started": "2025-06-08T11:07:45.470732Z"
    },
    "trusted": true
   },
   "outputs": [],
   "source": [
    "MODE = 'AD'\n",
    "EPOCHS = 1\n",
    "NUM_ROUNDS = 10\n",
    "\n",
    "df_AD_metrics, df_AD_metrics_avg = {}, pd.DataFrame()\n",
    "cond = (df_AD_metrics_avg['Strategy'] != 'FedProx (1)') & (df_AD_metrics_avg['Strategy'] != 'FedProx (0.1)')\n",
    "\n",
    "for PARTITIONS in ['UNIFORM', 'UNBALANCED']:\n",
    "\n",
    "    print(f\" \\n\\n --------------------------- {PARTITIONS} ---------------------------\")\n",
    "\n",
    "    df_AD_metrics[f\"{PARTITIONS}{EPOCHS}\"] = pd.read_csv(f\"..\\\\metrics\\\\{MODE}\\\\{MODE}{EPOCHS}_{PARTITIONS}_Metrics.csv\")\n",
    "    df_AD_metrics[f\"{PARTITIONS}{EPOCHS}\"]['Epochs'] = EPOCHS\n",
    "    \n",
    "    ModelComparisonTogether(df_AD_metrics[f\"{PARTITIONS}{EPOCHS}\"], MODE, PARTITIONS)\n",
    "    ModelComparisonTogether(df_AD_metrics[f\"{PARTITIONS}{EPOCHS}\"][cond], MODE, PARTITIONS)\n",
    "    \n",
    "    # Aggregate metrics and analyze\n",
    "    df_AD_avg = AggregateNodes(df_AD_metrics[f\"{PARTITIONS}{EPOCHS}\"], MODE, PARTITIONS)\n",
    "    df_AD_avg['Partition'] = PARTITIONS\n",
    "    df_AD_metrics_avg = pd.concat([df_AD_metrics_avg, df_AD_avg], ignore_index=True)\n",
    "\n",
    "print(f\" \\n\\n --------------------------- BOTH PARTITIONS ---------------------------\")\n",
    "# ModelComparisonAvgTogetherPart(df_AD_metrics_avg, MODE, EPOCHS)\n",
    "ModelComparisonAvgTogetherPart(df_AD_metrics_avg[cond], MODE, EPOCHS)"
   ]
  },
  {
   "cell_type": "markdown",
   "metadata": {},
   "source": [
    "**STAGE 2**. Training configuration"
   ]
  },
  {
   "cell_type": "code",
   "execution_count": null,
   "metadata": {
    "execution": {
     "iopub.execute_input": "2025-06-08T11:08:03.239285Z",
     "iopub.status.busy": "2025-06-08T11:08:03.238892Z",
     "iopub.status.idle": "2025-06-08T11:08:07.919961Z",
     "shell.execute_reply": "2025-06-08T11:08:07.918709Z",
     "shell.execute_reply.started": "2025-06-08T11:08:03.239242Z"
    },
    "trusted": true
   },
   "outputs": [],
   "source": [
    "df_AD_metrics_CNN = pd.DataFrame()\n",
    "\n",
    "for PARTITIONS in ['UNIFORM', 'UNBALANCED']:\n",
    "    for EPOCHS in [1, 3, 5, 10]:\n",
    "    \n",
    "        df_full = pd.read_csv(f\"..\\\\metrics\\\\{MODE}\\\\{MODE}{EPOCHS}_{PARTITIONS}_Metrics.csv\")\n",
    "        temp_df = df_full[(df_full['Model'] == 'CNN') & ((df_full['Strategy'] == 'FedAvg') | (df_full['Strategy'] == 'GeomMedian') )].copy()\n",
    "        temp_df['Epochs'] = EPOCHS\n",
    "        temp_df['Partition'] = PARTITIONS\n",
    "        df_AD_metrics_CNN = pd.concat([df_AD_metrics_CNN, temp_df], ignore_index=True)\n",
    "\n",
    "SingleModelAnalysis(df_AD_metrics_CNN, MODE)"
   ]
  },
  {
   "cell_type": "markdown",
   "metadata": {},
   "source": [
    "## **ATTACK CLASSIFICATION**"
   ]
  },
  {
   "cell_type": "markdown",
   "metadata": {},
   "source": [
    "**STAGE 1**. Model and Aggregation function"
   ]
  },
  {
   "cell_type": "code",
   "execution_count": null,
   "metadata": {},
   "outputs": [],
   "source": [
    "MODE = 'AC'\n",
    "EPOCHS = 1\n",
    "NUM_ROUNDS = 10\n",
    "\n",
    "df_AC_metrics, df_AC_metrics_avg = {}, pd.DataFrame()\n",
    "for PARTITIONS in ['UNIFORM', 'UNBALANCED']:\n",
    "\n",
    "    print(f\" \\n\\n --------------------------- {PARTITIONS} ---------------------------\")\n",
    "\n",
    "    df_AC_metrics[f\"{PARTITIONS}{EPOCHS}\"] = pd.read_csv(f\"..\\\\metrics\\\\{MODE}\\\\{MODE}{EPOCHS}_{PARTITIONS}_Metrics.csv\")\n",
    "    df_AC_metrics[f\"{PARTITIONS}{EPOCHS}\"] = df_AC_metrics[f\"{PARTITIONS}{EPOCHS}\"][df_AC_metrics[f\"{PARTITIONS}{EPOCHS}\"]['Round'] < NUM_ROUNDS]\n",
    "    df_AC_metrics[f\"{PARTITIONS}{EPOCHS}\"]['Epochs'] = EPOCHS\n",
    "    \n",
    "    ModelComparisonTogether(df_AC_metrics[f\"{PARTITIONS}{EPOCHS}\"], MODE, PARTITIONS)\n",
    "    \n",
    "    # Aggregate metrics and analyze\n",
    "    df_AC_avg = AggregateNodes(df_AC_metrics[f\"{PARTITIONS}{EPOCHS}\"], MODE, PARTITIONS)\n",
    "    df_AC_avg['Partition'] = PARTITIONS\n",
    "    df_AC_metrics_avg = pd.concat([df_AC_metrics_avg, df_AC_avg], ignore_index=True)\n",
    "\n",
    "print(f\" \\n\\n --------------------------- BOTH PARTITIONS ---------------------------\")\n",
    "ModelComparisonAvgTogetherPart(df_AC_metrics_avg, MODE, EPOCHS)"
   ]
  },
  {
   "cell_type": "markdown",
   "metadata": {},
   "source": [
    "**STAGE 2**. Training configuration"
   ]
  },
  {
   "cell_type": "code",
   "execution_count": null,
   "metadata": {
    "execution": {
     "iopub.execute_input": "2025-06-08T11:08:37.303159Z",
     "iopub.status.busy": "2025-06-08T11:08:37.302762Z",
     "iopub.status.idle": "2025-06-08T11:08:47.664119Z",
     "shell.execute_reply": "2025-06-08T11:08:47.662873Z",
     "shell.execute_reply.started": "2025-06-08T11:08:37.303118Z"
    },
    "trusted": true
   },
   "outputs": [],
   "source": [
    "df_AC_metrics_CNN = pd.DataFrame()\n",
    "NUM_ROUNDS = 20\n",
    "\n",
    "for PARTITIONS in ['UNIFORM', 'UNBALANCED']:\n",
    "    for EPOCHS in [1, 3, 5, 10]:\n",
    "        \n",
    "        df_full = pd.read_csv(f\"..\\\\metrics\\\\{MODE}\\\\{MODE}{EPOCHS}_{PARTITIONS}_Metrics.csv\")\n",
    "        temp_df = df_full[(df_full['Model'] == 'CNN') & (df_full['Strategy'] == 'GeomMedian') ].copy()\n",
    "        temp_df['Epochs'] = EPOCHS\n",
    "        temp_df['Partition'] = PARTITIONS\n",
    "        df_AC_metrics_CNN = pd.concat([df_AC_metrics_CNN, temp_df], ignore_index=True)\n",
    "\n",
    "condition  = (df_AC_metrics_CNN['Partition'] == 'UNBALANCED') & (df_AC_metrics_CNN['Epochs'] != 1)\n",
    "df_AC_metrics_CNN.loc[condition, 'ValAcc'] = df_AC_metrics_CNN.loc[condition, 'BalValAcc']\n",
    "df_AC_metrics_CNN = df_AC_metrics_CNN.drop(columns=['BalValAcc'])\n",
    "\n",
    "SingleModelAnalysis(df_AC_metrics_CNN, MODE)"
   ]
  },
  {
   "cell_type": "markdown",
   "metadata": {},
   "source": [
    "# **DIFFERENTIAL PRIVACY**"
   ]
  },
  {
   "cell_type": "code",
   "execution_count": null,
   "metadata": {
    "execution": {
     "iopub.execute_input": "2025-06-08T11:50:13.032945Z",
     "iopub.status.busy": "2025-06-08T11:50:13.032279Z",
     "iopub.status.idle": "2025-06-08T11:50:13.073426Z",
     "shell.execute_reply": "2025-06-08T11:50:13.071803Z",
     "shell.execute_reply.started": "2025-06-08T11:50:13.032898Z"
    },
    "trusted": true
   },
   "outputs": [],
   "source": [
    "def DPAnalysis(df: pd.DataFrame, MODE: str, val = '') -> None:\n",
    "    \"\"\" For each partition and node, plot Train and Validation Accuracy comparing different values of \"val\". \"\"\"\n",
    "\n",
    "    y_min_acc = min(df[['TrainAcc', 'ValAcc']].min())\n",
    "    y_max_acc = max(df[['TrainAcc', 'ValAcc']].max())\n",
    "\n",
    "    cmap = plt.get_cmap('tab20c')\n",
    "    \n",
    "    for part in df['Partition'].unique():\n",
    "        df_part = df[df['Partition'] == part]\n",
    "\n",
    "        # Style legend for accuracy types\n",
    "        handles_lstyle = [\n",
    "            Line2D([0], [0], color='black', lw=2, linestyle='-', label='Train'),\n",
    "            Line2D([0], [0], color='black', lw=2, linestyle='--', label='Validation')\n",
    "        ]\n",
    "\n",
    "        # Color legend for training modes\n",
    "        mode_parts = list(df_part['Mode'].unique())\n",
    "\n",
    "        indices = []\n",
    "        i = 4\n",
    "        while i < 20:\n",
    "            indices.extend([i, i+1, i+2])\n",
    "            i += 4 \n",
    "        color_indices = [idx for idx in indices if idx < 20]\n",
    "        \n",
    "        if 'Epsilon' in val:\n",
    "            cmap = plt.get_cmap('tab20b')\n",
    "            color_map = { mode: cmap(color_indices[i % len(color_indices)]) for i, mode in enumerate(mode_parts[1:])}\n",
    "       \n",
    "        elif 'Max gradient norm' in val:\n",
    "            color_map = { mode: cmap(color_indices[i % len(color_indices)]) for i, mode in enumerate(mode_parts[1:])}\n",
    "            \n",
    "        else:\n",
    "            predefined_indices = [6, 14, 8, 15] if MODE == 'AD' else [8, 14, 6, 15]\n",
    "            color_map = { mode: cmap(predefined_indices[i % len(predefined_indices)]) for i, mode in enumerate(mode_parts[1:])}\n",
    "        \n",
    "        handles_modes = [\n",
    "            Line2D([0], [0], color='w', markerfacecolor=color_map.get(mp, \"grey\"), marker='o', markersize=8, label=mp.split('_')[0])\n",
    "            for mp in mode_parts\n",
    "        ]\n",
    "\n",
    "        if MODE == 'AD':\n",
    "            fig, axes = plt.subplots(nrows=1, ncols=NUM_CLIENTS, figsize=(18, 4))\n",
    "        else:\n",
    "            fig, axes = plt.subplots(nrows=1, ncols=NUM_CLIENTS, figsize=(20, 5))\n",
    "        fig.subplots_adjust(top=0.8, bottom=0.15, hspace=0.7)\n",
    "        fig.suptitle(f\"{MODE} - {part} PARTITIONS - ACCURACY COMPARISON USING DIFFERENTIAL PRIVACY\", fontsize=16, fontweight='bold')\n",
    "        fig.text(0.5, 0.9, f\"Architecture: {df.iloc[0]['Model']} - Aggregation function: {df.iloc[0]['Strategy']} - Global rounds: {NUM_ROUNDS} - Local epochs: {EPOCHS} {val}\", ha='center', va='center', fontsize=12)\n",
    "        \n",
    "        for node in range(NUM_CLIENTS):\n",
    "            ax_acc = axes[node]\n",
    "\n",
    "            for i, mod in enumerate(df_part['Mode'].unique()):\n",
    "                part_mod_df = df_part[df_part['Mode'] == mod]\n",
    "                node_data = part_mod_df[part_mod_df['Node'] == node]\n",
    "                x_epochs = np.arange(1, len(node_data) + 1) \n",
    "                \n",
    "                mod_part = node_data['Mode'].iloc[0] # mod + \"_\" + part\n",
    "                col = color_map.get(mod_part, \"grey\")\n",
    "\n",
    "                ax_acc.plot(x_epochs, node_data['TrainAcc'], marker='o', markersize=0, linestyle='-', linewidth=1, color=col)\n",
    "                ax_acc.plot(x_epochs, node_data['ValAcc'], marker='s', markersize=0, linestyle='--', linewidth=1, color=col)\n",
    "                \n",
    "                # Tick formatting\n",
    "                tick_positions = []\n",
    "                i = 0\n",
    "                while (tick := EPOCHS * i) <= max(x_epochs):\n",
    "                    if tick >= min(x_epochs):\n",
    "                        tick_positions.append(tick)\n",
    "                    i += 1\n",
    "                if tick_positions[-1] != max(x_epochs):\n",
    "                    tick_positions.append(max(x_epochs))\n",
    "                \n",
    "                labels = [f\"{tick}\" for tick in tick_positions]\n",
    "                \n",
    "                ax_acc.set_xticks(tick_positions)\n",
    "                ax_acc.set_xticklabels(labels)\n",
    "                ax_acc.set_xlabel(\"Epoch\")\n",
    "                ax_acc.set_title(f\"Node {node+1}\")\n",
    "                ax_acc.set_ylim(y_min_acc, y_max_acc)\n",
    "                ax_acc.grid(True, alpha=0.7)\n",
    "\n",
    "                if node == 0:\n",
    "                    ax_acc.set_ylabel(\"Accuracy\")\n",
    "\n",
    "            section_title_style = {'color': 'black', 'lw': 0}\n",
    "            pseudo_handles = [\n",
    "                Line2D([], [], **section_title_style, label=r\"$\\\\mathbf{Accuracy\\\\ Type}$\"),\n",
    "                *handles_lstyle,\n",
    "                Line2D([], [], **section_title_style, label=' '),\n",
    "                Line2D([], [], **section_title_style, label=r\"$\\\\mathbf{Training\\\\ Mode}$\"),\n",
    "                *handles_modes\n",
    "            ]\n",
    "\n",
    "            if node == 2: \n",
    "                ax_acc.legend(handles=pseudo_handles, fontsize=6, title_fontsize=8)\n",
    "        plt.show()"
   ]
  },
  {
   "cell_type": "code",
   "execution_count": null,
   "metadata": {
    "execution": {
     "iopub.execute_input": "2025-06-08T11:08:47.780824Z",
     "iopub.status.busy": "2025-06-08T11:08:47.780421Z",
     "iopub.status.idle": "2025-06-08T11:08:47.799028Z",
     "shell.execute_reply": "2025-06-08T11:08:47.797758Z",
     "shell.execute_reply.started": "2025-06-08T11:08:47.780782Z"
    },
    "trusted": true
   },
   "outputs": [],
   "source": [
    "def ExtractData(MODE:str, df: pd.DataFrame, feature: str, max_grad_norms: List, epsilons: List, all_features: List = []) -> pd.DataFrame:\n",
    "    \"\"\" Extracts and aggregates experimental DP results from stored CSV metric files based on different training configurations. \"\"\"\n",
    "\n",
    "    NUM_ROUNDS = 10\n",
    "    EPOCHS = 5\n",
    "    \n",
    "    for PARTITIONS in ['UNIFORM', 'UNBALANCED']:\n",
    "        temp_df_single = pd.read_csv(f\"..\\\\metrics\\\\{MODE}\\\\{MODE}{EPOCHS}_{PARTITIONS}_Metrics.csv\")\n",
    "        temp_df_single = temp_df_single[(temp_df_single['Strategy'] == 'GeomMedian') & (temp_df_single['Round'] < NUM_ROUNDS)].copy()\n",
    "        temp_df_single['Epochs'] = EPOCHS\n",
    "        temp_df_single['Partition'] = PARTITIONS\n",
    "        temp_df_single['Mode'] = f\"{feature} = inf\" if feature else \"eps = inf, thr = inf\"\n",
    "        temp_df_single['Epsilon'] = np.inf\n",
    "        temp_df_single['MaxGradNorm'] = np.inf\n",
    "        df = pd.concat([df, temp_df_single], ignore_index=True)\n",
    "    \n",
    "        for eps in epsilons:\n",
    "            for max_grad_norm in max_grad_norms:\n",
    "                file_path = f\"..\\\\metrics\\\\{MODE}\\\\DP\\\\{MODE}{EPOCHS}-DP{eps}{max_grad_norm}_{PARTITIONS}_Metrics.csv\"\n",
    "                if os.path.exists(file_path):\n",
    "                    temp_df = pd.read_csv(file_path)\n",
    "\n",
    "                    max_grad_norm = 1 if max_grad_norm == '' else max_grad_norm.replace('-', '')\n",
    "                    temp_df['MaxGradNorm'] = float(max_grad_norm)\n",
    "                    temp_df['Epochs'] = EPOCHS\n",
    "                    temp_df['Partition'] = PARTITIONS\n",
    "                    \n",
    "                    if feature:\n",
    "                        val = eps if feature == 'eps' else max_grad_norm\n",
    "                        temp_df['Mode'] = f\"{feature} = {val}\"\n",
    "                    else:\n",
    "                        grad_norm = all_features[f\"{MODE}{eps}\"]\n",
    "                        temp_df['Mode'] = f\"eps = {str(eps).split('-')[0]}, thr = {grad_norm}\"\n",
    "                    df = pd.concat([df, temp_df], ignore_index=True)\n",
    "\n",
    "    if MODE == 'AC':\n",
    "        condition  = (df['Partition'] == 'UNBALANCED')\n",
    "        df.loc[condition, 'ValAcc'] = df.loc[condition, 'BalValAcc']\n",
    "        df = df.drop(columns=['BalValAcc'])\n",
    "            \n",
    "    return df"
   ]
  },
  {
   "cell_type": "markdown",
   "metadata": {},
   "source": [
    "### **ATTACK DETECTION**"
   ]
  },
  {
   "cell_type": "markdown",
   "metadata": {},
   "source": [
    "Compare different privacy budgets $\\epsilon$ values"
   ]
  },
  {
   "cell_type": "code",
   "execution_count": null,
   "metadata": {
    "execution": {
     "iopub.execute_input": "2025-06-08T11:50:28.388672Z",
     "iopub.status.busy": "2025-06-08T11:50:28.388264Z",
     "iopub.status.idle": "2025-06-08T11:50:31.427684Z",
     "shell.execute_reply": "2025-06-08T11:50:31.426422Z",
     "shell.execute_reply.started": "2025-06-08T11:50:28.388641Z"
    },
    "trusted": true
   },
   "outputs": [],
   "source": [
    "MODE = 'AD'\n",
    "df_ADDP_metrics = pd.DataFrame()\n",
    "\n",
    "df_ADDP_metrics = ExtractData(MODE, df_ADDP_metrics, 'eps', ['-1'], [0.5, 1, 2, 3, 5, 10, 20])\n",
    "max_grad_norm = 1\n",
    "DPAnalysis(df_ADDP_metrics, MODE, f' - Max gradient norm: {max_grad_norm}')"
   ]
  },
  {
   "cell_type": "markdown",
   "metadata": {},
   "source": [
    "Compare different Max clipping threshold $\\mathcal{C}$ values"
   ]
  },
  {
   "cell_type": "code",
   "execution_count": null,
   "metadata": {
    "execution": {
     "iopub.execute_input": "2025-06-08T11:10:06.677926Z",
     "iopub.status.busy": "2025-06-08T11:10:06.677647Z",
     "iopub.status.idle": "2025-06-08T11:10:10.870840Z",
     "shell.execute_reply": "2025-06-08T11:10:10.869673Z",
     "shell.execute_reply.started": "2025-06-08T11:10:06.677901Z"
    },
    "trusted": true
   },
   "outputs": [],
   "source": [
    "df_ADDP_metrics = pd.DataFrame()\n",
    "\n",
    "max_grad_norms = ['-0.5', '-0.75', '', '-1.5', '-2']\n",
    "epsilons = [2]\n",
    "df_ADDP_metrics = ExtractData(MODE, df_ADDP_metrics, 'thr', max_grad_norms, epsilons)\n",
    "DPAnalysis(df_ADDP_metrics, MODE, f' - Epsilon: {epsilons[0]}')"
   ]
  },
  {
   "cell_type": "markdown",
   "metadata": {},
   "source": [
    "Comparison of the best $\\epsilon$ and $\\mathcal{C}$ already found and the ones achieved doing hyperparameter tunning"
   ]
  },
  {
   "cell_type": "code",
   "execution_count": null,
   "metadata": {
    "trusted": true
   },
   "outputs": [],
   "source": [
    "df_ADDP_metrics = pd.DataFrame()\n",
    "\n",
    "AD_DP_HT = {'AD2': 1, 'AD2.52-1.97': 1.97} # key: MODE + epsilon, value: max clipping norm\n",
    "max_grad_norms = ['']\n",
    "epsilons = [2, '2.52-1.97']\n",
    "df_ADDP_metrics = ExtractData(MODE, df_ADDP_metrics, '', max_grad_norms, epsilons, AD_DP_HT)\n",
    "DPAnalysis(df_ADDP_metrics, MODE)"
   ]
  },
  {
   "cell_type": "markdown",
   "metadata": {},
   "source": [
    "## **ATTACK CLASSIFICATION**"
   ]
  },
  {
   "cell_type": "markdown",
   "metadata": {},
   "source": [
    "Compare different privacy budgets $\\epsilon$ values"
   ]
  },
  {
   "cell_type": "code",
   "execution_count": null,
   "metadata": {
    "execution": {
     "iopub.execute_input": "2025-06-08T11:10:19.389245Z",
     "iopub.status.busy": "2025-06-08T11:10:19.388947Z",
     "iopub.status.idle": "2025-06-08T11:10:24.261302Z",
     "shell.execute_reply": "2025-06-08T11:10:24.259965Z",
     "shell.execute_reply.started": "2025-06-08T11:10:19.389219Z"
    },
    "trusted": true
   },
   "outputs": [],
   "source": [
    "df_ACDP_metrics = pd.DataFrame()\n",
    "\n",
    "epsilons = [0.5, 1, 2, 3, 5, 10, 20]\n",
    "df_ACDP_metrics = ExtractData(MODE, df_ACDP_metrics, 'eps', ['-1'], epsilons)\n",
    "max_grad_norm = 1\n",
    "DPAnalysis(df_ACDP_metrics, MODE, f' - Max gradient norm: {max_grad_norm}')"
   ]
  },
  {
   "cell_type": "markdown",
   "metadata": {},
   "source": [
    "Compare different Max clipping threshold $\\mathcal{C}$ values"
   ]
  },
  {
   "cell_type": "code",
   "execution_count": null,
   "metadata": {
    "execution": {
     "iopub.execute_input": "2025-06-08T11:14:03.587177Z",
     "iopub.status.busy": "2025-06-08T11:14:03.586808Z",
     "iopub.status.idle": "2025-06-08T11:14:07.386344Z",
     "shell.execute_reply": "2025-06-08T11:14:07.385217Z",
     "shell.execute_reply.started": "2025-06-08T11:14:03.587151Z"
    },
    "trusted": true
   },
   "outputs": [],
   "source": [
    "MODE = 'AC'\n",
    "df_ACDP_metrics = pd.DataFrame()\n",
    "\n",
    "max_grad_norms = ['-0.5', '-0.75', '-1', '-1.5', '-2']\n",
    "epsilons = [3]\n",
    "df_ACDP_metrics = ExtractData(MODE, df_ACDP_metrics, 'thr', max_grad_norms, epsilons)\n",
    "DPAnalysis(df_ACDP_metrics, MODE, f' - Epsilon: {epsilons[0]}')"
   ]
  },
  {
   "cell_type": "markdown",
   "metadata": {},
   "source": [
    "Comparison of the best $\\epsilon$ and $\\mathcal{C}$ already found and the ones achieved doing hyperparameter tunning"
   ]
  },
  {
   "cell_type": "code",
   "execution_count": null,
   "metadata": {
    "trusted": true
   },
   "outputs": [],
   "source": [
    "MODE = 'AC'\n",
    "df_ACDP_metrics = pd.DataFrame()\n",
    "\n",
    "AC_DP_HT = {'AC3-1': 1, 'AC2.13-1.99': 1.99} # key: MODE + epsilon, value: max clipping norm\n",
    "max_grad_norms = ['']\n",
    "epsilons = ['3-1', '2.13-1.99']\n",
    "df_ACDP_metrics = ExtractData(MODE, df_ACDP_metrics, '', max_grad_norms, epsilons, AC_DP_HT)\n",
    "DPAnalysis(df_ACDP_metrics, MODE)"
   ]
  }
 ],
 "metadata": {
  "kaggle": {
   "accelerator": "none",
   "dataSources": [
    {
     "datasetId": 6970491,
     "sourceId": 11169626,
     "sourceType": "datasetVersion"
    },
    {
     "datasetId": 6919881,
     "sourceId": 11794545,
     "sourceType": "datasetVersion"
    },
    {
     "datasetId": 7074644,
     "sourceId": 12103719,
     "sourceType": "datasetVersion"
    }
   ],
   "dockerImageVersionId": 30918,
   "isGpuEnabled": false,
   "isInternetEnabled": true,
   "language": "python",
   "sourceType": "notebook"
  },
  "kernelspec": {
   "display_name": "Python 3",
   "language": "python",
   "name": "python3"
  },
  "language_info": {
   "codemirror_mode": {
    "name": "ipython",
    "version": 3
   },
   "file_extension": ".py",
   "mimetype": "text/x-python",
   "name": "python",
   "nbconvert_exporter": "python",
   "pygments_lexer": "ipython3",
   "version": "3.10.12"
  }
 },
 "nbformat": 4,
 "nbformat_minor": 4
}
